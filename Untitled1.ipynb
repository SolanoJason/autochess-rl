{
 "cells": [
  {
   "cell_type": "code",
   "execution_count": 1,
   "id": "b1c63797-6632-4063-963f-684e72928c9f",
   "metadata": {},
   "outputs": [],
   "source": [
    "import sys\n",
    "import cv2 as cv\n",
    "from utils import *\n",
    "from arena_functions import *\n",
    "from screen_coords import *\n",
    "import numpy as np\n",
    "import matplotlib.pyplot as plt\n",
    "from ocr import *\n",
    "from PIL import Image, ImageGrab\n",
    "from time import sleep, perf_counter\n",
    "import pyautogui\n",
    "from game import Game\n",
    "import multiprocessing\n",
    "\n",
    "# whole_preparation = [cv.imread(f'Photos/whole/preparation/preparation{i}.png') for i in range(1, 11)]\n",
    "# whole_battle = [cv.imread(f'Photos/whole/battle/battle{i}.png') for i in range(1, 6)]\n",
    "# whole_post = [cv.imread(f'Photos/whole/postbattle/postbattle{i}.png') for i in range(1, 4)]\n",
    "# shop =  [cv.imread(f'Photos/shop/shop{i}.png') for i in range(1, 21)]\n",
    "# items = [cv.imread(f'Photos/items/items{i}.png') for i in range(1, 5)]\n",
    "\n",
    "cv.samples.addSamplesDataSearchPath('C:\\Program Files\\opencv\\sources\\samples\\data')"
   ]
  },
  {
   "cell_type": "code",
   "execution_count": 2,
   "id": "177ae1c3-0473-484c-8b04-5007f2ccc991",
   "metadata": {},
   "outputs": [],
   "source": [
    "def game_loop() -> None:\n",
    "    \"\"\"Mantiene el programa ejecutándose indefinidamente llamando a la cola y al inicio del juego en un bucle\"\"\"\n",
    "\n",
    "    logo = Image.open('Photos/logo.png')\n",
    "    box = pyautogui.locateOnScreen(logo, confidence=0.6)\n",
    "    vec2 = pyautogui.center(box)\n",
    "    pyautogui.click(vec2)\n",
    "    sleep(2)\n",
    "    while True:\n",
    "        Game()"
   ]
  },
  {
   "cell_type": "code",
   "execution_count": 4,
   "id": "c68b9db8-82a9-4dce-b0c3-6e59a000360e",
   "metadata": {},
   "outputs": [
    {
     "name": "stdout",
     "output_type": "stream",
     "text": [
      "loading screen...\n",
      "round='1'\n",
      "game loop:\n",
      "do round\n",
      "toggle_shop\n",
      "do round\n",
      "toggle_shop\n",
      "do round\n",
      "toggle_shop\n",
      "do round\n",
      "toggle_shop\n",
      "do round\n",
      "toggle_shop\n",
      "do round\n",
      "toggle_shop\n",
      "do round\n",
      "toggle_shop\n",
      "do round\n",
      "toggle_shop\n",
      "do round\n",
      "toggle_shop\n",
      "do round\n",
      "toggle_shop\n",
      "do round\n",
      "toggle_shop\n",
      "do round\n",
      "toggle_shop\n",
      "do round\n",
      "toggle_shop\n",
      "do round\n",
      "toggle_shop\n",
      "do round\n",
      "toggle_shop\n",
      "do round\n",
      "toggle_shop\n",
      "do round\n",
      "toggle_shop\n",
      "do round\n"
     ]
    },
    {
     "ename": "ValueError",
     "evalue": "invalid literal for int() with base 10: 'se | Statis'",
     "output_type": "error",
     "traceback": [
      "\u001b[1;31m---------------------------------------------------------------------------\u001b[0m",
      "\u001b[1;31mValueError\u001b[0m                                Traceback (most recent call last)",
      "\u001b[1;32m~\\AppData\\Local\\Temp\\ipykernel_15856\\2155384710.py\u001b[0m in \u001b[0;36m<module>\u001b[1;34m\u001b[0m\n\u001b[1;32m----> 1\u001b[1;33m \u001b[0mgame_loop\u001b[0m\u001b[1;33m(\u001b[0m\u001b[1;33m)\u001b[0m\u001b[1;33m\u001b[0m\u001b[1;33m\u001b[0m\u001b[0m\n\u001b[0m",
      "\u001b[1;32m~\\AppData\\Local\\Temp\\ipykernel_15856\\3375578888.py\u001b[0m in \u001b[0;36mgame_loop\u001b[1;34m()\u001b[0m\n\u001b[0;32m      8\u001b[0m     \u001b[0msleep\u001b[0m\u001b[1;33m(\u001b[0m\u001b[1;36m2\u001b[0m\u001b[1;33m)\u001b[0m\u001b[1;33m\u001b[0m\u001b[1;33m\u001b[0m\u001b[0m\n\u001b[0;32m      9\u001b[0m     \u001b[1;32mwhile\u001b[0m \u001b[1;32mTrue\u001b[0m\u001b[1;33m:\u001b[0m\u001b[1;33m\u001b[0m\u001b[1;33m\u001b[0m\u001b[0m\n\u001b[1;32m---> 10\u001b[1;33m         \u001b[0mGame\u001b[0m\u001b[1;33m(\u001b[0m\u001b[1;33m)\u001b[0m\u001b[1;33m\u001b[0m\u001b[1;33m\u001b[0m\u001b[0m\n\u001b[0m",
      "\u001b[1;32mD:\\Cursos\\Python\\OpenCV\\game.py\u001b[0m in \u001b[0;36m__init__\u001b[1;34m(self)\u001b[0m\n\u001b[0;32m     21\u001b[0m         \u001b[0mself\u001b[0m\u001b[1;33m.\u001b[0m\u001b[0mround\u001b[0m \u001b[1;33m=\u001b[0m \u001b[1;34m\"0\"\u001b[0m\u001b[1;33m\u001b[0m\u001b[1;33m\u001b[0m\u001b[0m\n\u001b[0;32m     22\u001b[0m         \u001b[0mself\u001b[0m\u001b[1;33m.\u001b[0m\u001b[0mtime\u001b[0m\u001b[1;33m:\u001b[0m \u001b[1;32mNone\u001b[0m \u001b[1;33m=\u001b[0m \u001b[1;32mNone\u001b[0m\u001b[1;33m\u001b[0m\u001b[1;33m\u001b[0m\u001b[0m\n\u001b[1;32m---> 23\u001b[1;33m         \u001b[0mself\u001b[0m\u001b[1;33m.\u001b[0m\u001b[0mloading_screen\u001b[0m\u001b[1;33m(\u001b[0m\u001b[1;33m)\u001b[0m\u001b[1;33m\u001b[0m\u001b[1;33m\u001b[0m\u001b[0m\n\u001b[0m\u001b[0;32m     24\u001b[0m \u001b[1;33m\u001b[0m\u001b[0m\n\u001b[0;32m     25\u001b[0m     \u001b[1;32mdef\u001b[0m \u001b[0mloading_screen\u001b[0m\u001b[1;33m(\u001b[0m\u001b[0mself\u001b[0m\u001b[1;33m)\u001b[0m \u001b[1;33m->\u001b[0m \u001b[1;32mNone\u001b[0m\u001b[1;33m:\u001b[0m\u001b[1;33m\u001b[0m\u001b[1;33m\u001b[0m\u001b[0m\n",
      "\u001b[1;32mD:\\Cursos\\Python\\OpenCV\\game.py\u001b[0m in \u001b[0;36mloading_screen\u001b[1;34m(self)\u001b[0m\n\u001b[0;32m     32\u001b[0m             \u001b[0mprint\u001b[0m\u001b[1;33m(\u001b[0m\u001b[1;34mf'{round=}'\u001b[0m\u001b[1;33m)\u001b[0m\u001b[1;33m\u001b[0m\u001b[1;33m\u001b[0m\u001b[0m\n\u001b[0;32m     33\u001b[0m             \u001b[0msleep\u001b[0m\u001b[1;33m(\u001b[0m\u001b[1;36m1\u001b[0m\u001b[1;33m)\u001b[0m\u001b[1;33m\u001b[0m\u001b[1;33m\u001b[0m\u001b[0m\n\u001b[1;32m---> 34\u001b[1;33m         \u001b[0mself\u001b[0m\u001b[1;33m.\u001b[0m\u001b[0mgame_loop\u001b[0m\u001b[1;33m(\u001b[0m\u001b[1;33m)\u001b[0m\u001b[1;33m\u001b[0m\u001b[1;33m\u001b[0m\u001b[0m\n\u001b[0m\u001b[0;32m     35\u001b[0m \u001b[1;33m\u001b[0m\u001b[0m\n\u001b[0;32m     36\u001b[0m     \u001b[1;32mdef\u001b[0m \u001b[0mgame_loop\u001b[0m\u001b[1;33m(\u001b[0m\u001b[0mself\u001b[0m\u001b[1;33m)\u001b[0m \u001b[1;33m->\u001b[0m \u001b[1;32mNone\u001b[0m\u001b[1;33m:\u001b[0m\u001b[1;33m\u001b[0m\u001b[1;33m\u001b[0m\u001b[0m\n",
      "\u001b[1;32mD:\\Cursos\\Python\\OpenCV\\game.py\u001b[0m in \u001b[0;36mgame_loop\u001b[1;34m(self)\u001b[0m\n\u001b[0;32m     47\u001b[0m             \u001b[1;32mif\u001b[0m \u001b[0mself\u001b[0m\u001b[1;33m.\u001b[0m\u001b[0mround\u001b[0m \u001b[1;33m!=\u001b[0m \u001b[0mran_round\u001b[0m\u001b[1;33m:\u001b[0m\u001b[1;33m\u001b[0m\u001b[1;33m\u001b[0m\u001b[0m\n\u001b[0;32m     48\u001b[0m                 \u001b[0mran_round\u001b[0m\u001b[1;33m:\u001b[0m \u001b[0mstr\u001b[0m \u001b[1;33m=\u001b[0m \u001b[0mself\u001b[0m\u001b[1;33m.\u001b[0m\u001b[0mround\u001b[0m\u001b[1;33m\u001b[0m\u001b[1;33m\u001b[0m\u001b[0m\n\u001b[1;32m---> 49\u001b[1;33m                 \u001b[0mself\u001b[0m\u001b[1;33m.\u001b[0m\u001b[0mdo_round\u001b[0m\u001b[1;33m(\u001b[0m\u001b[1;33m)\u001b[0m\u001b[1;33m\u001b[0m\u001b[1;33m\u001b[0m\u001b[0m\n\u001b[0m\u001b[0;32m     50\u001b[0m             \u001b[0msleep\u001b[0m\u001b[1;33m(\u001b[0m\u001b[1;36m0.5\u001b[0m\u001b[1;33m)\u001b[0m\u001b[1;33m\u001b[0m\u001b[1;33m\u001b[0m\u001b[0m\n\u001b[0;32m     51\u001b[0m         \u001b[0mself\u001b[0m\u001b[1;33m.\u001b[0m\u001b[0mmessage_queue\u001b[0m\u001b[1;33m.\u001b[0m\u001b[0mput\u001b[0m\u001b[1;33m(\u001b[0m\u001b[1;34m\"CLEAR\"\u001b[0m\u001b[1;33m)\u001b[0m\u001b[1;33m\u001b[0m\u001b[1;33m\u001b[0m\u001b[0m\n",
      "\u001b[1;32mD:\\Cursos\\Python\\OpenCV\\game.py\u001b[0m in \u001b[0;36mdo_round\u001b[1;34m(self)\u001b[0m\n\u001b[0;32m     54\u001b[0m     \u001b[1;32mdef\u001b[0m \u001b[0mdo_round\u001b[0m\u001b[1;33m(\u001b[0m\u001b[0mself\u001b[0m\u001b[1;33m)\u001b[0m\u001b[1;33m:\u001b[0m\u001b[1;33m\u001b[0m\u001b[1;33m\u001b[0m\u001b[0m\n\u001b[0;32m     55\u001b[0m         \u001b[0mprint\u001b[0m\u001b[1;33m(\u001b[0m\u001b[1;34m\"do round\"\u001b[0m\u001b[1;33m)\u001b[0m\u001b[1;33m\u001b[0m\u001b[1;33m\u001b[0m\u001b[0m\n\u001b[1;32m---> 56\u001b[1;33m         \u001b[1;32mif\u001b[0m \u001b[0mstr\u001b[0m\u001b[1;33m(\u001b[0m\u001b[0mint\u001b[0m\u001b[1;33m(\u001b[0m\u001b[0mself\u001b[0m\u001b[1;33m.\u001b[0m\u001b[0mround\u001b[0m\u001b[1;33m)\u001b[0m\u001b[1;33m-\u001b[0m\u001b[1;36m1\u001b[0m\u001b[1;33m)\u001b[0m \u001b[1;32min\u001b[0m \u001b[0mgame_assets\u001b[0m\u001b[1;33m.\u001b[0m\u001b[0mPVE_ROUND\u001b[0m\u001b[1;33m:\u001b[0m\u001b[1;33m\u001b[0m\u001b[1;33m\u001b[0m\u001b[0m\n\u001b[0m\u001b[0;32m     57\u001b[0m             \u001b[0mtoggle_items\u001b[0m\u001b[1;33m(\u001b[0m\u001b[1;33m)\u001b[0m\u001b[1;33m\u001b[0m\u001b[1;33m\u001b[0m\u001b[0m\n\u001b[0;32m     58\u001b[0m             \u001b[0msleep\u001b[0m\u001b[1;33m(\u001b[0m\u001b[1;36m1\u001b[0m\u001b[1;33m)\u001b[0m\u001b[1;33m\u001b[0m\u001b[1;33m\u001b[0m\u001b[0m\n",
      "\u001b[1;31mValueError\u001b[0m: invalid literal for int() with base 10: 'se | Statis'"
     ]
    }
   ],
   "source": [
    "game_loop()"
   ]
  },
  {
   "cell_type": "code",
   "execution_count": 15,
   "id": "d8b20bdb-03e5-4d10-be96-bb67ac52f004",
   "metadata": {},
   "outputs": [
    {
     "ename": "NameError",
     "evalue": "name 'ui_queue' is not defined",
     "output_type": "error",
     "traceback": [
      "\u001b[1;31m---------------------------------------------------------------------------\u001b[0m",
      "\u001b[1;31mNameError\u001b[0m                                 Traceback (most recent call last)",
      "\u001b[1;32m~\\AppData\\Local\\Temp\\ipykernel_20320\\2481117021.py\u001b[0m in \u001b[0;36m<module>\u001b[1;34m\u001b[0m\n\u001b[0;32m      5\u001b[0m \u001b[0msleep\u001b[0m\u001b[1;33m(\u001b[0m\u001b[1;36m2\u001b[0m\u001b[1;33m)\u001b[0m\u001b[1;33m\u001b[0m\u001b[1;33m\u001b[0m\u001b[0m\n\u001b[0;32m      6\u001b[0m \u001b[1;32mwhile\u001b[0m \u001b[1;32mTrue\u001b[0m\u001b[1;33m:\u001b[0m\u001b[1;33m\u001b[0m\u001b[1;33m\u001b[0m\u001b[0m\n\u001b[1;32m----> 7\u001b[1;33m     \u001b[0mGame\u001b[0m\u001b[1;33m(\u001b[0m\u001b[0mui_queue\u001b[0m\u001b[1;33m)\u001b[0m\u001b[1;33m\u001b[0m\u001b[1;33m\u001b[0m\u001b[0m\n\u001b[0m",
      "\u001b[1;31mNameError\u001b[0m: name 'ui_queue' is not defined"
     ]
    }
   ],
   "source": [
    "logo = Image.open('Photos/logo.png')\n",
    "box = pyautogui.locateOnScreen(logo, confidence=0.6)\n",
    "vec2 = pyautogui.center(box)\n",
    "pyautogui.click(vec2)\n",
    "sleep(2)\n",
    "while True:\n",
    "    Game(ui_queue)"
   ]
  },
  {
   "cell_type": "code",
   "execution_count": 4,
   "id": "9a9fbd8e-92f7-4873-995d-a210fb93f451",
   "metadata": {},
   "outputs": [],
   "source": [
    "logo = Image.open('Photos/logo.png')\n",
    "box = pyautogui.locateOnScreen(logo, confidence=0.6)\n",
    "vec2 = pyautogui.center(box)\n",
    "pyautogui.click(vec2)\n",
    "sleep(2)\n",
    "toggle_lineup()\n",
    "sleep(1)\n",
    "toggle_lineup()"
   ]
  },
  {
   "cell_type": "code",
   "execution_count": 11,
   "id": "b042307e-f625-4415-b0e4-da00ca2861d0",
   "metadata": {},
   "outputs": [],
   "source": [
    "logo = Image.open('Photos/logo.png')\n",
    "box = pyautogui.locateOnScreen(logo, confidence=0.6)\n",
    "vec2 = pyautogui.center(box)\n",
    "pyautogui.click(vec2)\n",
    "sleep(2)\n",
    "screenshot = ImageGrab.grab()\n",
    "round: str = get_round(screenshot)"
   ]
  },
  {
   "cell_type": "code",
   "execution_count": 12,
   "id": "c44a2752-4238-42c1-9f41-c84480670010",
   "metadata": {},
   "outputs": [
    {
     "data": {
      "text/plain": [
       "'1'"
      ]
     },
     "execution_count": 12,
     "metadata": {},
     "output_type": "execute_result"
    }
   ],
   "source": [
    "round"
   ]
  },
  {
   "cell_type": "code",
   "execution_count": 8,
   "id": "14f5a29c-b44d-4839-b94b-d78bb3e1fbae",
   "metadata": {},
   "outputs": [],
   "source": [
    "logo = Image.open('Photos/logo.png')\n",
    "box = pyautogui.locateOnScreen(logo, confidence=0.6)\n",
    "vec2 = pyautogui.center(box)\n",
    "pyautogui.click(vec2)\n",
    "sleep(2)\n",
    "toggle_shop()\n",
    "buy_champion(\"1\")\n",
    "sleep(1)\n",
    "toggle_shop()"
   ]
  },
  {
   "cell_type": "code",
   "execution_count": 72,
   "id": "b4ebc66f-83c1-4062-8f38-b0a5ba4b6fdc",
   "metadata": {},
   "outputs": [
    {
     "data": {
      "image/png": "[encoded data removed]",
      "text/plain": [
       "<PIL.Image.Image image mode=RGB size=120x40>"
      ]
     },
     "execution_count": 72,
     "metadata": {},
     "output_type": "execute_result"
    }
   ],
   "source": [
    "item = cv2PIL(items[0])\n",
    "item.crop((320, 540, 440, 580))"
   ]
  },
  {
   "cell_type": "code",
   "execution_count": 85,
   "id": "1d5f692a-b008-4fb3-9933-973cf752f737",
   "metadata": {},
   "outputs": [
    {
     "data": {
      "image/png": "[encoded data removed]",
      "text/plain": [
       "<PIL.Image.Image image mode=RGB size=120x40>"
      ]
     },
     "execution_count": 85,
     "metadata": {},
     "output_type": "execute_result"
    }
   ],
   "source": [
    "item.crop((735, 540, 855, 580))"
   ]
  },
  {
   "cell_type": "code",
   "execution_count": 88,
   "id": "9c435908-1a9e-4e57-a0fa-7c96f6de9ee7",
   "metadata": {},
   "outputs": [
    {
     "data": {
      "image/png": "[encoded data removed]",
      "text/plain": [
       "<PIL.Image.Image image mode=RGB size=120x40>"
      ]
     },
     "execution_count": 88,
     "metadata": {},
     "output_type": "execute_result"
    }
   ],
   "source": [
    "item.crop((1155, 540, 1275, 580))"
   ]
  },
  {
   "cell_type": "code",
   "execution_count": 16,
   "id": "83ac8c32-d298-4733-9494-163b908a3e87",
   "metadata": {},
   "outputs": [],
   "source": [
    "import time"
   ]
  },
  {
   "cell_type": "code",
   "execution_count": 35,
   "id": "dda4a076-d683-4b1d-9f67-6e4f2156514c",
   "metadata": {},
   "outputs": [
    {
     "data": {
      "text/plain": [
       "1565348248.8"
      ]
     },
     "execution_count": 35,
     "metadata": {},
     "output_type": "execute_result"
    }
   ],
   "source": [
    "perf_counter()*60*1000*60"
   ]
  },
  {
   "cell_type": "code",
   "execution_count": 34,
   "id": "f77454ff-04b4-4927-92d0-f2dbe33ab157",
   "metadata": {},
   "outputs": [
    {
     "data": {
      "text/plain": [
       "1684752924.3755105"
      ]
     },
     "execution_count": 34,
     "metadata": {},
     "output_type": "execute_result"
    }
   ],
   "source": [
    "time.time()"
   ]
  },
  {
   "cell_type": "code",
   "execution_count": 14,
   "id": "2c46de27-b8cd-407d-9c88-927289b87189",
   "metadata": {},
   "outputs": [
    {
     "data": {
      "text/plain": [
       "375.4589249"
      ]
     },
     "execution_count": 14,
     "metadata": {},
     "output_type": "execute_result"
    }
   ],
   "source": [
    "perf_counter()"
   ]
  },
  {
   "cell_type": "code",
   "execution_count": 15,
   "id": "961453aa-dde3-401b-8053-685ba5b3419f",
   "metadata": {},
   "outputs": [
    {
     "data": {
      "text/plain": [
       "'Abyssalcrawler'"
      ]
     },
     "execution_count": 15,
     "metadata": {},
     "output_type": "execute_result"
    }
   ],
   "source": [
    "valid_champ('Abyssalcrawier')"
   ]
  },
  {
   "cell_type": "code",
   "execution_count": 38,
   "id": "1bf33878-624e-468d-ba13-ea1f0240069a",
   "metadata": {},
   "outputs": [
    {
     "data": {
      "text/plain": [
       "'Umbra'"
      ]
     },
     "execution_count": 38,
     "metadata": {},
     "output_type": "execute_result"
    }
   ],
   "source": [
    "''.join(e for e in champion_names[2] if e.isalnum() or e == ' ').strip()"
   ]
  },
  {
   "cell_type": "code",
   "execution_count": 30,
   "id": "cbf8813c-8c41-4b83-8a4d-788b8f351ccf",
   "metadata": {},
   "outputs": [
    {
     "data": {
      "text/plain": [
       "['Lightblade Knight', 'Unicorn', 'Umbra', 'Redaxe Chief', 'Poisonous Worm']"
      ]
     },
     "execution_count": 30,
     "metadata": {},
     "output_type": "execute_result"
    }
   ],
   "source": [
    "[''.join(e for e in champion_name if e.isalnum() or e == ' ').strip() for champion_name in champion_names]"
   ]
  },
  {
   "cell_type": "code",
   "execution_count": 19,
   "id": "7d98cc0e-b6ec-44cc-89a2-477de9893be7",
   "metadata": {},
   "outputs": [
    {
     "data": {
      "image/png": "[encoded data removed]",
      "text/plain": [
       "<PIL.Image.Image image mode=RGB size=48x40>"
      ]
     },
     "execution_count": 19,
     "metadata": {},
     "output_type": "execute_result"
    }
   ],
   "source": [
    "whole_pre = cv2PIL(whole_preparation[5])\n",
    "gold_image = whole_pre.crop(screen_coords.GOLD_POS.get_coords())\n",
    "gold_image"
   ]
  },
  {
   "cell_type": "code",
   "execution_count": 26,
   "id": "860eca9d-4e54-4d68-846b-63b110d02407",
   "metadata": {},
   "outputs": [],
   "source": [
    "resize = image_resize(gold_image, 3)\n",
    "array = image_array(resize)\n",
    "grayscale = image_grayscale(array)\n",
    "# print(grayscale)\n",
    "thresholding = image_thresholding(grayscale)\n",
    "show_image(thresholding)"
   ]
  },
  {
   "cell_type": "code",
   "execution_count": 35,
   "id": "a47cc296-31e4-403f-813e-45ef7a80596b",
   "metadata": {},
   "outputs": [
    {
     "data": {
      "text/plain": [
       "'9\\n'"
      ]
     },
     "execution_count": 35,
     "metadata": {},
     "output_type": "execute_result"
    }
   ],
   "source": [
    "pytesseract.image_to_string(thresholding, config=f'--psm 7')"
   ]
  },
  {
   "cell_type": "code",
   "execution_count": 20,
   "id": "a0e09464-f96f-47ed-83bd-4d336862e85d",
   "metadata": {},
   "outputs": [
    {
     "data": {
      "text/plain": [
       "'9'"
      ]
     },
     "execution_count": 20,
     "metadata": {},
     "output_type": "execute_result"
    }
   ],
   "source": [
    "get_text_from_image(gold_image)"
   ]
  },
  {
   "cell_type": "code",
   "execution_count": 36,
   "id": "453b7bab-d70b-4380-866e-10b7df7170d0",
   "metadata": {},
   "outputs": [
    {
     "name": "stdout",
     "output_type": "stream",
     "text": [
      "Python 3.9.7\n"
     ]
    }
   ],
   "source": [
    "!python --version"
   ]
  },
  {
   "cell_type": "code",
   "execution_count": 25,
   "id": "67506975-2798-49d9-b077-67503b737c2f",
   "metadata": {},
   "outputs": [],
   "source": [
    "show_image(img)"
   ]
  },
  {
   "cell_type": "code",
   "execution_count": 18,
   "id": "f8dc8178-285b-42bd-8757-9e90ac413098",
   "metadata": {},
   "outputs": [],
   "source": [
    "img = cv.imread('Photos/shop/shop1.png')\n",
    "img_inverse = cv.bitwise_not(img)\n",
    "show_image(img_inverse)"
   ]
  },
  {
   "cell_type": "code",
   "execution_count": 28,
   "id": "3127c540-97e2-4d8d-aaeb-3355e0578e4b",
   "metadata": {},
   "outputs": [],
   "source": [
    "img = cv.imread('Photos/shop/shop1.png')\n",
    "img_gray = cv.cvtColor(img, cv.COLOR_BGR2GRAY)\n",
    "show_image(img_gray)"
   ]
  },
  {
   "cell_type": "code",
   "execution_count": 59,
   "id": "e893462a-32f0-42ab-9d0c-860da3dcd5bc",
   "metadata": {},
   "outputs": [],
   "source": [
    "thresh, img_binary = cv.threshold(img_gray, 120, 240, cv.THRESH_BINARY)\n",
    "show_image(img_binary)"
   ]
  },
  {
   "cell_type": "code",
   "execution_count": 8,
   "id": "4383253a-1707-4de9-a409-d671670d9354",
   "metadata": {},
   "outputs": [
    {
     "data": {
      "text/plain": [
       "(178, 800, 220, 830)"
      ]
     },
     "execution_count": 8,
     "metadata": {},
     "output_type": "execute_result"
    }
   ],
   "source": [
    "LEVEL_POS.get_coords()"
   ]
  },
  {
   "cell_type": "code",
   "execution_count": 112,
   "id": "87bd9dbc-b726-4444-84fd-44705c7c9569",
   "metadata": {},
   "outputs": [],
   "source": [
    "whole_level = PIL2cv(get_level_image(cv2PIL(wholes[10])))\n",
    "whole_level_gray = cv.cvtColor(whole_level, cv.COLOR_BGR2GRAY)\n",
    "thresh, whole_level_thresh = cv.threshold(whole_level_gray, 175, 255, cv.THRESH_BINARY)\n",
    "whole_level_invert = cv.bitwise_not(whole_level_thresh)\n",
    "show_image(whole_level_invert)"
   ]
  },
  {
   "cell_type": "code",
   "execution_count": null,
   "id": "2c545714-67bb-4a2a-bc75-a9a8e2582da9",
   "metadata": {},
   "outputs": [],
   "source": []
  },
  {
   "cell_type": "code",
   "execution_count": 100,
   "id": "a7113743-7c97-4751-8241-2090df33b1b8",
   "metadata": {},
   "outputs": [],
   "source": [
    "show_image(whole_level_gray)"
   ]
  },
  {
   "cell_type": "code",
   "execution_count": 74,
   "id": "cace004a-1ae0-490b-b368-d2c429e5adcb",
   "metadata": {},
   "outputs": [
    {
     "data": {
      "text/plain": [
       "array([ 75,  75,  76, ..., 144, 144, 144], dtype=uint8)"
      ]
     },
     "execution_count": 74,
     "metadata": {},
     "output_type": "execute_result"
    }
   ],
   "source": [
    "whole.flatten()"
   ]
  },
  {
   "cell_type": "code",
   "execution_count": 84,
   "id": "8a5a1c2f-8a49-49df-a2a3-2175c05c093b",
   "metadata": {},
   "outputs": [],
   "source": [
    "show_image(whole)"
   ]
  },
  {
   "cell_type": "code",
   "execution_count": 78,
   "id": "0118d560-47c1-4fad-8aa7-3d27f8ca4677",
   "metadata": {},
   "outputs": [
    {
     "data": {
      "image/png": "[encoded data removed]",
      "text/plain": [
       "<Figure size 432x288 with 1 Axes>"
      ]
     },
     "metadata": {
      "needs_background": "light"
     },
     "output_type": "display_data"
    }
   ],
   "source": [
    "hist = plt.hist(whole.flatten(), bins=25)"
   ]
  },
  {
   "cell_type": "code",
   "execution_count": 121,
   "id": "66f88801-5817-467f-bbc8-8d8bf3385a97",
   "metadata": {},
   "outputs": [],
   "source": [
    "resize = image_resize(cv2PIL(whole_level), 3)\n",
    "array = image_array(resize)\n",
    "grayscale = image_grayscale(array)\n",
    "# print(grayscale)\n",
    "thresholding = image_thresholding(grayscale)\n",
    "show_image(thresholding)"
   ]
  },
  {
   "cell_type": "code",
   "execution_count": 125,
   "id": "9ed4c812-8901-45d6-bb96-45d7544f9546",
   "metadata": {},
   "outputs": [
    {
     "data": {
      "text/plain": [
       "'7'"
      ]
     },
     "execution_count": 125,
     "metadata": {},
     "output_type": "execute_result"
    }
   ],
   "source": [
    "pytesseract.image_to_string(thresholding, config=f'--psm 7 -c tessedit_char_whitelist={ROUND_WHITELIST}').strip()"
   ]
  },
  {
   "cell_type": "code",
   "execution_count": 2,
   "id": "f87bce8b-8b19-4a4a-af33-b2d1938a081f",
   "metadata": {},
   "outputs": [
    {
     "data": {
      "text/plain": [
       "(172, 35, 215, 59)"
      ]
     },
     "execution_count": 2,
     "metadata": {},
     "output_type": "execute_result"
    }
   ],
   "source": [
    "PLAYER_HEALTH_POS.get_coords()"
   ]
  },
  {
   "cell_type": "code",
   "execution_count": 4,
   "id": "72b457cc-a630-47c3-973e-12e8408947e1",
   "metadata": {},
   "outputs": [
    {
     "data": {
      "image/png": "[encoded data removed]",
      "text/plain": [
       "<PIL.Image.Image image mode=RGB size=80x20>"
      ]
     },
     "execution_count": 4,
     "metadata": {},
     "output_type": "execute_result"
    }
   ],
   "source": [
    "whole = cv2PIL(whole_preparation[2])\n",
    "whole = whole.crop(PLAYERS_HEALTH_POS[1].get_coords())\n",
    "health = whole.crop((170, 35, 250, 55))\n",
    "health"
   ]
  },
  {
   "cell_type": "code",
   "execution_count": 33,
   "id": "d4556365-3f7d-4126-9e32-6fd090af39b5",
   "metadata": {},
   "outputs": [
    {
     "data": {
      "text/plain": [
       "<Version('5.3.1.20230401')>"
      ]
     },
     "execution_count": 33,
     "metadata": {},
     "output_type": "execute_result"
    }
   ],
   "source": [
    "pytesseract.get_tesseract_version() "
   ]
  },
  {
   "cell_type": "code",
   "execution_count": 34,
   "id": "a61e13d3-f361-4059-bc7f-bbb3d8559c10",
   "metadata": {},
   "outputs": [],
   "source": [
    "resize = image_resize(health, 3)\n",
    "array = image_array(resize)\n",
    "grayscale = image_grayscale(array)\n",
    "# print(grayscale)\n",
    "thresholding = image_thresholding(grayscale)"
   ]
  },
  {
   "cell_type": "code",
   "execution_count": 55,
   "id": "c299dd9f-d80d-41bb-a0fb-881c7edca428",
   "metadata": {},
   "outputs": [
    {
     "data": {
      "text/plain": [
       "(170, 35, 250, 59)"
      ]
     },
     "execution_count": 55,
     "metadata": {},
     "output_type": "execute_result"
    }
   ],
   "source": [
    "PLAYER_HEALTH_POS.get_coords()"
   ]
  },
  {
   "cell_type": "code",
   "execution_count": 62,
   "id": "e63ba62e-efd3-4608-b9b2-8434c94f39f4",
   "metadata": {},
   "outputs": [
    {
     "data": {
      "image/png": "[encoded data removed]",
      "text/plain": [
       "<PIL.Image.Image image mode=RGB size=280x65>"
      ]
     },
     "execution_count": 62,
     "metadata": {},
     "output_type": "execute_result"
    }
   ],
   "source": [
    "img = cv2PIL(wholes[2])\n",
    "img = img.crop(PLAYERS_HEALTH_POS[2].get_coords())\n",
    "img"
   ]
  },
  {
   "cell_type": "code",
   "execution_count": 58,
   "id": "ce1dec33-ff23-41b0-b454-405c6841dfe3",
   "metadata": {},
   "outputs": [
    {
     "data": {
      "image/png": "[encoded data removed]",
      "text/plain": [
       "<PIL.Image.Image image mode=RGB size=43x24>"
      ]
     },
     "execution_count": 58,
     "metadata": {},
     "output_type": "execute_result"
    }
   ],
   "source": [
    "player_image = img\n",
    "player_name = player_image.crop(screen_coords.PLAYER_NAME_POS.get_coords())\n",
    "player_name = get_text_from_image(player_name, whitelist=ALPHABET_WHITELIST+ROUND_WHITELIST)\n",
    "player_heath = player_image.crop(screen_coords.PLAYER_HEALTH_POS.get_coords())\n",
    "player_heath"
   ]
  },
  {
   "cell_type": "code",
   "execution_count": 20,
   "id": "ac92e2f7-471e-45b0-85ac-14e9c8b589fd",
   "metadata": {},
   "outputs": [],
   "source": [
    "resize = image_resize(player_heath, 3)\n",
    "array = image_array(resize)\n",
    "grayscale = image_grayscale(array)\n",
    "# print(grayscale)\n",
    "thresholding = image_thresholding(grayscale)"
   ]
  },
  {
   "cell_type": "code",
   "execution_count": 31,
   "id": "eb1e088b-fc8b-48f8-a518-168c93618dc2",
   "metadata": {},
   "outputs": [
    {
     "data": {
      "text/plain": [
       "'60\\n'"
      ]
     },
     "execution_count": 31,
     "metadata": {},
     "output_type": "execute_result"
    }
   ],
   "source": [
    "pytesseract.image_to_string(player_heath, config=f'--psm 10 -c tessedit_char_whitelist={ROUND_WHITELIST}')"
   ]
  },
  {
   "cell_type": "code",
   "execution_count": 26,
   "id": "58aacb29-682b-40e4-9dd7-0f08af1ba6c2",
   "metadata": {},
   "outputs": [],
   "source": [
    "show_image(thresholding)"
   ]
  },
  {
   "cell_type": "code",
   "execution_count": 19,
   "id": "65758d2e-0217-4f5f-bdf6-9a5bb9d37adb",
   "metadata": {},
   "outputs": [
    {
     "data": {
      "text/plain": [
       "''"
      ]
     },
     "execution_count": 19,
     "metadata": {},
     "output_type": "execute_result"
    }
   ],
   "source": [
    "get_text_from_image(player_heath, whitelist=ROUND_WHITELIST)"
   ]
  },
  {
   "cell_type": "code",
   "execution_count": 10,
   "id": "6515a61c-6623-4b32-94c9-b1dce33967f5",
   "metadata": {},
   "outputs": [
    {
     "data": {
      "text/plain": [
       "'85'"
      ]
     },
     "execution_count": 10,
     "metadata": {},
     "output_type": "execute_result"
    }
   ],
   "source": [
    "get_text_from_image(img, whitelist=ROUND_WHITELIST)"
   ]
  },
  {
   "cell_type": "code",
   "execution_count": 32,
   "id": "d168a622-af57-4c2b-8c6b-3a2c3777e911",
   "metadata": {},
   "outputs": [],
   "source": [
    "resize = image_resize(img, 3)\n",
    "array = image_array(resize)\n",
    "grayscale = image_grayscale(array)\n",
    "# print(grayscale)\n",
    "thresholding = image_thresholding(grayscale)\n",
    "show_image(thresholding)"
   ]
  },
  {
   "cell_type": "code",
   "execution_count": 42,
   "id": "b71509bd-f92c-4a2e-a354-0d10d3b00dec",
   "metadata": {},
   "outputs": [],
   "source": [
    "show_image(thresholding)"
   ]
  },
  {
   "cell_type": "code",
   "execution_count": 42,
   "id": "c1f2d7b7-beee-4a72-a6d8-cdac7317ad31",
   "metadata": {},
   "outputs": [
    {
     "data": {
      "text/plain": [
       "['100',\n",
       " '100',\n",
       " '97',\n",
       " '97',\n",
       " '97',\n",
       " '97',\n",
       " '97',\n",
       " '97',\n",
       " '97',\n",
       " '97',\n",
       " '97',\n",
       " '97',\n",
       " '97',\n",
       " '97',\n",
       " '97',\n",
       " '97',\n",
       " '100',\n",
       " '42']"
      ]
     },
     "execution_count": 42,
     "metadata": {},
     "output_type": "execute_result"
    }
   ],
   "source": [
    "[get_own_health(cv2PIL(whole)) for whole in wholes]"
   ]
  }
 ],
 "metadata": {
  "kernelspec": {
   "display_name": "Python 3 (ipykernel)",
   "language": "python",
   "name": "python3"
  },
  "language_info": {
   "codemirror_mode": {
    "name": "ipython",
    "version": 3
   },
   "file_extension": ".py",
   "mimetype": "text/x-python",
   "name": "python",
   "nbconvert_exporter": "python",
   "pygments_lexer": "ipython3",
   "version": "3.9.7"
  }
 },
 "nbformat": 4,
 "nbformat_minor": 5
}

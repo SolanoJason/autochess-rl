{
 "cells": [
  {
   "cell_type": "code",
   "execution_count": 32,
   "id": "147b5407-9460-4d34-a9a9-b4ecbed35b25",
   "metadata": {},
   "outputs": [],
   "source": [
    "from arena_functions import *\n",
    "from utils import *\n",
    "from PIL import Image, ImageGrab\n",
    "import cv2 as cv\n",
    "from ocr import *\n",
    "from screen_coords import *\n",
    "import pytesseract"
   ]
  },
  {
   "cell_type": "code",
   "execution_count": 2,
   "id": "84df6ae3-c707-421c-8fb6-53669537b052",
   "metadata": {},
   "outputs": [],
   "source": [
    "wholes = [cv.imread(f'Photos/whole/whole{i}.png') for i in range(1, 17)]\n",
    "shops = cv.imread('Photos/shop.png')\n",
    "lineups = cv.imread('Photos/battlefield.png')"
   ]
  },
  {
   "cell_type": "code",
   "execution_count": 17,
   "id": "8399cb33-f70e-4e17-b768-b12ea95b6521",
   "metadata": {},
   "outputs": [],
   "source": [
    "show_image(wholes[12])"
   ]
  },
  {
   "cell_type": "code",
   "execution_count": 22,
   "id": "6aefc4ac-2a6b-4199-b2ee-30c3607429a0",
   "metadata": {},
   "outputs": [
    {
     "data": {
      "text/plain": [
       "(1320, 10, 1368, 50)"
      ]
     },
     "execution_count": 22,
     "metadata": {},
     "output_type": "execute_result"
    }
   ],
   "source": [
    "GOLD_POS.get_coords()"
   ]
  },
  {
   "cell_type": "code",
   "execution_count": 31,
   "id": "dfc84ed8-c37e-4c82-8407-2401590accc2",
   "metadata": {},
   "outputs": [
    {
     "data": {
      "text/plain": [
       "''"
      ]
     },
     "execution_count": 31,
     "metadata": {},
     "output_type": "execute_result"
    }
   ],
   "source": [
    "img = wholes[12]\n",
    "img = cv2PIL(img)\n",
    "img = img.crop(GOLD_POS.get_coords())\n",
    "get_text_from_image(img, whitelist='1234569')"
   ]
  },
  {
   "cell_type": "code",
   "execution_count": 33,
   "id": "c54cdb85-9182-40d9-9563-97a98b44d83a",
   "metadata": {},
   "outputs": [
    {
     "data": {
      "text/plain": [
       "''"
      ]
     },
     "execution_count": 33,
     "metadata": {},
     "output_type": "execute_result"
    }
   ],
   "source": [
    "pytesseract.image_to_string(img, config=f'')"
   ]
  },
  {
   "cell_type": "code",
   "execution_count": 8,
   "id": "9e0535ec-164b-4b09-8b3d-b81e141930b4",
   "metadata": {},
   "outputs": [
    {
     "data": {
      "text/plain": [
       "{'whole1': '5',\n",
       " 'whole2': '5',\n",
       " 'whole3': '0',\n",
       " 'whole4': '6',\n",
       " 'whole5': '4',\n",
       " 'whole6': '0',\n",
       " 'whole7': '6',\n",
       " 'whole8': '0',\n",
       " 'whole9': '10',\n",
       " 'whole10': '17',\n",
       " 'whole11': '8',\n",
       " 'whole12': '11',\n",
       " 'whole13': '',\n",
       " 'whole14': '4',\n",
       " 'whole15': '22',\n",
       " 'whole16': '16'}"
      ]
     },
     "execution_count": 8,
     "metadata": {},
     "output_type": "execute_result"
    }
   ],
   "source": [
    "{f'whole{i+1}':get_gold(cv2PIL(whole)) for i,whole in enumerate(wholes)}"
   ]
  },
  {
   "cell_type": "code",
   "execution_count": 31,
   "id": "7c1a3777-801e-4994-a730-0640bcf40cc3",
   "metadata": {},
   "outputs": [],
   "source": [
    "show_image(battlefield)"
   ]
  },
  {
   "cell_type": "code",
   "execution_count": 71,
   "id": "49b8f096-7649-4f41-ae3a-af65b52f5b15",
   "metadata": {},
   "outputs": [],
   "source": [
    "battlefield = cv.imread('Photos/battlefield.png')\n",
    "first_y = 120\n",
    "height = 94\n",
    "for i in range(8):\n",
    "    cv.rectangle(battlefield, (0, first_y), (1600, height+first_y), (250, 0, 0))\n",
    "    first_y = height+first_y\n",
    "show_image(battlefield)"
   ]
  }
 ],
 "metadata": {
  "kernelspec": {
   "display_name": "Python 3 (ipykernel)",
   "language": "python",
   "name": "python3"
  },
  "language_info": {
   "codemirror_mode": {
    "name": "ipython",
    "version": 3
   },
   "file_extension": ".py",
   "mimetype": "text/x-python",
   "name": "python",
   "nbconvert_exporter": "python",
   "pygments_lexer": "ipython3",
   "version": "3.9.7"
  }
 },
 "nbformat": 4,
 "nbformat_minor": 5
}

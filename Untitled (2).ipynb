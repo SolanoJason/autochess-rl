{
 "cells": [
  {
   "cell_type": "code",
   "execution_count": 62,
   "id": "66255aff-cb02-4e0f-bb5f-3fc21216811c",
   "metadata": {},
   "outputs": [],
   "source": [
    "from skimage.metrics import structural_similarity as ssim\n",
    "import matplotlib.pyplot as plt\n",
    "import pyautogui\n",
    "import numpy as np\n",
    "import cv2"
   ]
  },
  {
   "cell_type": "code",
   "execution_count": 59,
   "id": "8335427b-a933-4d03-9ad1-c9ca857a0897",
   "metadata": {},
   "outputs": [],
   "source": [
    "def show_image(title, image):\n",
    "    cv.imshow(title, image)\n",
    "    cv.waitKey(0)\n",
    "    cv.destroyAllWindows()"
   ]
  },
  {
   "cell_type": "code",
   "execution_count": 33,
   "id": "dfcb3c9f-685f-44aa-9e82-5f240e341e08",
   "metadata": {},
   "outputs": [],
   "source": [
    "def mse(imageA, imageB):\n",
    "\t# the 'Mean Squared Error' between the two images is the\n",
    "\t# sum of the squared difference between the two images;\n",
    "\t# NOTE: the two images must have the same dimension\n",
    "\terr = np.sum((imageA.astype(\"float\") - imageB.astype(\"float\")) ** 2)\n",
    "\terr /= float(imageA.shape[0] * imageA.shape[1])\n",
    "\t\n",
    "\t# return the MSE, the lower the error, the more \"similar\"\n",
    "\t# the two images are\n",
    "\treturn err"
   ]
  },
  {
   "cell_type": "code",
   "execution_count": 46,
   "id": "f5082464-a3e1-4a94-96a1-a883a6f103f5",
   "metadata": {},
   "outputs": [],
   "source": [
    "def compare_images(imageA, imageB, title):\n",
    "    m = mse(imageA, imageB),\n",
    "    s = ssim(imageA, imageB)\n",
    "    \n",
    "    fig = plt.figure(title)\n",
    "    plt.suptitle(f\"MSE: {m:.2f}, SSIM: {s:.2f}\")\n",
    "    \n",
    "    ax = fig.add_subplot(1, 2, 1)\n",
    "    plt.imshow(imageA, cmap=plt.cm.gray)\n",
    "    \n",
    "    plt.axis('off')\n",
    "    \n",
    "    ax = fig.add_subplot(1, 2, 2)\n",
    "    plt.imshow(imageB, cmap=plt.cm.gray)\n",
    "    plt.axis('off')\n",
    "    \n",
    "    plt.show()"
   ]
  },
  {
   "cell_type": "code",
   "execution_count": 60,
   "id": "1883b474-4b31-4830-b5c7-7fdcfc9268ed",
   "metadata": {},
   "outputs": [],
   "source": [
    "redaxe_chief = cv.imread('Photos/Redaxe Chief.png')\n",
    "show_image('hola', redaxe_chief)"
   ]
  },
  {
   "cell_type": "code",
   "execution_count": 100,
   "id": "b762f86e-6cb7-49de-8cfb-e12b880e1c8f",
   "metadata": {},
   "outputs": [],
   "source": [
    "player_bench_info = cv.imread('Photos/player_bench_info.png')\n",
    "show_image('title', player_bench_info)"
   ]
  },
  {
   "cell_type": "code",
   "execution_count": 102,
   "id": "248dc422-0733-4b6d-bbb1-518206e5f1d2",
   "metadata": {},
   "outputs": [
    {
     "data": {
      "text/plain": [
       "Box(left=2, top=119, width=1597, height=93)"
      ]
     },
     "execution_count": 102,
     "metadata": {},
     "output_type": "execute_result"
    }
   ],
   "source": [
    "box = pyautogui.locate(player_bench_info, bench, confidence=0.5)\n",
    "box"
   ]
  },
  {
   "cell_type": "code",
   "execution_count": 103,
   "id": "78e2e1d1-acdb-475e-8f45-d573bce5d3a2",
   "metadata": {},
   "outputs": [],
   "source": [
    "bench = cv.imread('Photos/bench.png')\n",
    "cv.rectangle(bench, (box.left, box.top), (box.left+box.width, box.top+box.height), (255, 0, 0))\n",
    "show_image('grab', bench)"
   ]
  },
  {
   "cell_type": "code",
   "execution_count": 115,
   "id": "5482adbf-dd61-4fbe-b2e3-6df1e16b5542",
   "metadata": {},
   "outputs": [],
   "source": [
    "show_image('title',bench_2)"
   ]
  },
  {
   "cell_type": "code",
   "execution_count": 119,
   "id": "e475d18a-0538-4cd3-9019-bc9dbbbb43b1",
   "metadata": {},
   "outputs": [
    {
     "ename": "AttributeError",
     "evalue": "'NoneType' object has no attribute 'left'",
     "output_type": "error",
     "traceback": [
      "\u001b[1;31m---------------------------------------------------------------------------\u001b[0m",
      "\u001b[1;31mAttributeError\u001b[0m                            Traceback (most recent call last)",
      "\u001b[1;32m~\\AppData\\Local\\Temp\\ipykernel_18128\\4252975432.py\u001b[0m in \u001b[0;36m<module>\u001b[1;34m\u001b[0m\n\u001b[0;32m      1\u001b[0m \u001b[0mbox\u001b[0m \u001b[1;33m=\u001b[0m \u001b[0mpyautogui\u001b[0m\u001b[1;33m.\u001b[0m\u001b[0mlocate\u001b[0m\u001b[1;33m(\u001b[0m\u001b[0mplayer_bench_info\u001b[0m\u001b[1;33m,\u001b[0m \u001b[0mbench_2\u001b[0m\u001b[1;33m,\u001b[0m \u001b[0mconfidence\u001b[0m\u001b[1;33m=\u001b[0m\u001b[1;36m0.5\u001b[0m\u001b[1;33m)\u001b[0m\u001b[1;33m\u001b[0m\u001b[1;33m\u001b[0m\u001b[0m\n\u001b[0;32m      2\u001b[0m \u001b[0mbench_2\u001b[0m \u001b[1;33m=\u001b[0m \u001b[0mcv\u001b[0m\u001b[1;33m.\u001b[0m\u001b[0mimread\u001b[0m\u001b[1;33m(\u001b[0m\u001b[1;34m'Photos/bench2.png'\u001b[0m\u001b[1;33m)\u001b[0m\u001b[1;33m\u001b[0m\u001b[1;33m\u001b[0m\u001b[0m\n\u001b[1;32m----> 3\u001b[1;33m \u001b[0mcv\u001b[0m\u001b[1;33m.\u001b[0m\u001b[0mrectangle\u001b[0m\u001b[1;33m(\u001b[0m\u001b[0mbench_2\u001b[0m\u001b[1;33m,\u001b[0m \u001b[1;33m(\u001b[0m\u001b[0mbox\u001b[0m\u001b[1;33m.\u001b[0m\u001b[0mleft\u001b[0m\u001b[1;33m,\u001b[0m \u001b[0mbox\u001b[0m\u001b[1;33m.\u001b[0m\u001b[0mtop\u001b[0m\u001b[1;33m)\u001b[0m\u001b[1;33m,\u001b[0m \u001b[1;33m(\u001b[0m\u001b[0mbox\u001b[0m\u001b[1;33m.\u001b[0m\u001b[0mleft\u001b[0m\u001b[1;33m+\u001b[0m\u001b[0mbox\u001b[0m\u001b[1;33m.\u001b[0m\u001b[0mwidth\u001b[0m\u001b[1;33m,\u001b[0m \u001b[0mbox\u001b[0m\u001b[1;33m.\u001b[0m\u001b[0mtop\u001b[0m\u001b[1;33m+\u001b[0m\u001b[0mbox\u001b[0m\u001b[1;33m.\u001b[0m\u001b[0mheight\u001b[0m\u001b[1;33m)\u001b[0m\u001b[1;33m,\u001b[0m \u001b[1;33m(\u001b[0m\u001b[1;36m255\u001b[0m\u001b[1;33m,\u001b[0m \u001b[1;36m0\u001b[0m\u001b[1;33m,\u001b[0m \u001b[1;36m0\u001b[0m\u001b[1;33m)\u001b[0m\u001b[1;33m)\u001b[0m\u001b[1;33m\u001b[0m\u001b[1;33m\u001b[0m\u001b[0m\n\u001b[0m\u001b[0;32m      4\u001b[0m \u001b[0mshow_image\u001b[0m\u001b[1;33m(\u001b[0m\u001b[1;34m'grab'\u001b[0m\u001b[1;33m,\u001b[0m \u001b[0mbench_2\u001b[0m\u001b[1;33m)\u001b[0m\u001b[1;33m\u001b[0m\u001b[1;33m\u001b[0m\u001b[0m\n",
      "\u001b[1;31mAttributeError\u001b[0m: 'NoneType' object has no attribute 'left'"
     ]
    }
   ],
   "source": [
    "box = pyautogui.locate(player_bench_info, bench_2, confidence=0.5)\n",
    "bench_2 = cv.imread('Photos/bench2.png')\n",
    "cv.rectangle(bench_2, (box.left, box.top), (box.left+box.width, box.top+box.height), (255, 0, 0))\n",
    "show_image('grab', bench_2)"
   ]
  },
  {
   "cell_type": "code",
   "execution_count": null,
   "id": "800ec7fe-47b6-4b15-b967-1e1d3df939b4",
   "metadata": {},
   "outputs": [],
   "source": []
  }
 ],
 "metadata": {
  "kernelspec": {
   "display_name": "Python 3 (ipykernel)",
   "language": "python",
   "name": "python3"
  },
  "language_info": {
   "codemirror_mode": {
    "name": "ipython",
    "version": 3
   },
   "file_extension": ".py",
   "mimetype": "text/x-python",
   "name": "python",
   "nbconvert_exporter": "python",
   "pygments_lexer": "ipython3",
   "version": "3.9.7"
  }
 },
 "nbformat": 4,
 "nbformat_minor": 5
}
